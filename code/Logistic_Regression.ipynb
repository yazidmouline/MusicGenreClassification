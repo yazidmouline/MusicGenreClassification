{
 "cells": [
  {
   "cell_type": "markdown",
   "metadata": {},
   "source": [
    "# MALIS Project - Music Genre Classification\n",
    "\n",
    "## Logistic Regression\n",
    "\n",
    "This iPython notebook aim is to implement a logistic regression model to classify music by genre, with the dataset we built."
   ]
  },
  {
   "cell_type": "code",
   "execution_count": 867,
   "metadata": {},
   "outputs": [],
   "source": [
    "import numpy as np\n",
    "from numpy import linalg\n",
    "from sklearn.model_selection import train_test_split\n",
    "from sklearn.linear_model import LogisticRegression\n",
    "from sklearn.mixture import GaussianMixture\n",
    "import matplotlib.pyplot as plt\n",
    "from matplotlib.colors import ListedColormap\n",
    "from sklearn.preprocessing import StandardScaler\n",
    "\n",
    "\n",
    "import pandas as pd\n",
    "import numpy as np\n",
    "import utils\n",
    "from sklearn.preprocessing import PolynomialFeatures\n",
    "import matplotlib.pyplot as plt"
   ]
  },
  {
   "cell_type": "code",
   "execution_count": 868,
   "metadata": {},
   "outputs": [],
   "source": [
    "#this function allows to select only a certain number of genres, \n",
    "#the first argument is the dataset dataframe\n",
    "#the second argument is a list of strings of the genres considered the different choices are:\n",
    "#blues classical country disco hiphop jazz metal pop reggae rock\n",
    "\n",
    "def data_set_select_genre(df, selected_genres):\n",
    "    data = df.copy()\n",
    "    all_genres = 'blues classical country disco hiphop jazz metal pop reggae rock'.split()\n",
    "    for genre in all_genres:\n",
    "        if (genre not in selected_genres):\n",
    "            data = data.drop(data[data['genre'] == genre].index)\n",
    "    return data"
   ]
  },
  {
   "cell_type": "markdown",
   "metadata": {},
   "source": [
    "#### Two genres classification\n",
    "\n",
    "We start by importing our dataset, shuffling it, rescaling the features with sklearn StandardScaler and splitting into a training and testing set. We also select with the function defined above, the genres we want to classify. For this section, we choose to do it with two genres."
   ]
  },
  {
   "cell_type": "code",
   "execution_count": 869,
   "metadata": {
    "scrolled": true
   },
   "outputs": [
    {
     "name": "stdout",
     "output_type": "stream",
     "text": [
      "Unnamed: 0            int64\n",
      "song                 object\n",
      "mean_mfccs          float64\n",
      "mean_chroma_stft    float64\n",
      "tempo               float64\n",
      "pulse               float64\n",
      "flatness            float64\n",
      "contrast            float64\n",
      "zero_crossing       float64\n",
      "genre                object\n",
      "dtype: object\n"
     ]
    },
    {
     "data": {
      "text/html": [
       "<div>\n",
       "<style scoped>\n",
       "    .dataframe tbody tr th:only-of-type {\n",
       "        vertical-align: middle;\n",
       "    }\n",
       "\n",
       "    .dataframe tbody tr th {\n",
       "        vertical-align: top;\n",
       "    }\n",
       "\n",
       "    .dataframe thead th {\n",
       "        text-align: right;\n",
       "    }\n",
       "</style>\n",
       "<table border=\"1\" class=\"dataframe\">\n",
       "  <thead>\n",
       "    <tr style=\"text-align: right;\">\n",
       "      <th></th>\n",
       "      <th>Unnamed: 0</th>\n",
       "      <th>song</th>\n",
       "      <th>mean_mfccs</th>\n",
       "      <th>mean_chroma_stft</th>\n",
       "      <th>tempo</th>\n",
       "      <th>pulse</th>\n",
       "      <th>flatness</th>\n",
       "      <th>contrast</th>\n",
       "      <th>zero_crossing</th>\n",
       "      <th>genre</th>\n",
       "    </tr>\n",
       "  </thead>\n",
       "  <tbody>\n",
       "    <tr>\n",
       "      <th>100</th>\n",
       "      <td>100</td>\n",
       "      <td>classical.00000.wav</td>\n",
       "      <td>-0.442585</td>\n",
       "      <td>-0.929900</td>\n",
       "      <td>-1.275904</td>\n",
       "      <td>0.437540</td>\n",
       "      <td>0.000904</td>\n",
       "      <td>1.315589</td>\n",
       "      <td>-0.174364</td>\n",
       "      <td>classical</td>\n",
       "    </tr>\n",
       "    <tr>\n",
       "      <th>101</th>\n",
       "      <td>101</td>\n",
       "      <td>classical.00001.wav</td>\n",
       "      <td>-0.846283</td>\n",
       "      <td>-1.374626</td>\n",
       "      <td>-0.126886</td>\n",
       "      <td>0.334646</td>\n",
       "      <td>0.000324</td>\n",
       "      <td>2.055785</td>\n",
       "      <td>-0.421050</td>\n",
       "      <td>classical</td>\n",
       "    </tr>\n",
       "    <tr>\n",
       "      <th>102</th>\n",
       "      <td>102</td>\n",
       "      <td>classical.00002.wav</td>\n",
       "      <td>-0.240230</td>\n",
       "      <td>-0.625866</td>\n",
       "      <td>-1.081455</td>\n",
       "      <td>0.597942</td>\n",
       "      <td>0.001094</td>\n",
       "      <td>1.118003</td>\n",
       "      <td>-0.367396</td>\n",
       "      <td>classical</td>\n",
       "    </tr>\n",
       "    <tr>\n",
       "      <th>103</th>\n",
       "      <td>103</td>\n",
       "      <td>classical.00003.wav</td>\n",
       "      <td>-0.620142</td>\n",
       "      <td>-1.145891</td>\n",
       "      <td>0.852803</td>\n",
       "      <td>-0.408544</td>\n",
       "      <td>0.000453</td>\n",
       "      <td>2.249984</td>\n",
       "      <td>0.079313</td>\n",
       "      <td>classical</td>\n",
       "    </tr>\n",
       "    <tr>\n",
       "      <th>104</th>\n",
       "      <td>104</td>\n",
       "      <td>classical.00004.wav</td>\n",
       "      <td>-0.824075</td>\n",
       "      <td>-1.296391</td>\n",
       "      <td>-0.643944</td>\n",
       "      <td>0.189608</td>\n",
       "      <td>0.000740</td>\n",
       "      <td>1.985205</td>\n",
       "      <td>0.171851</td>\n",
       "      <td>classical</td>\n",
       "    </tr>\n",
       "  </tbody>\n",
       "</table>\n",
       "</div>"
      ],
      "text/plain": [
       "     Unnamed: 0                 song  mean_mfccs  mean_chroma_stft     tempo  \\\n",
       "100         100  classical.00000.wav   -0.442585         -0.929900 -1.275904   \n",
       "101         101  classical.00001.wav   -0.846283         -1.374626 -0.126886   \n",
       "102         102  classical.00002.wav   -0.240230         -0.625866 -1.081455   \n",
       "103         103  classical.00003.wav   -0.620142         -1.145891  0.852803   \n",
       "104         104  classical.00004.wav   -0.824075         -1.296391 -0.643944   \n",
       "\n",
       "        pulse  flatness  contrast  zero_crossing      genre  \n",
       "100  0.437540  0.000904  1.315589      -0.174364  classical  \n",
       "101  0.334646  0.000324  2.055785      -0.421050  classical  \n",
       "102  0.597942  0.001094  1.118003      -0.367396  classical  \n",
       "103 -0.408544  0.000453  2.249984       0.079313  classical  \n",
       "104  0.189608  0.000740  1.985205       0.171851  classical  "
      ]
     },
     "execution_count": 869,
     "metadata": {},
     "output_type": "execute_result"
    }
   ],
   "source": [
    "#importing our dataset and spliting into training and testing set\n",
    "\n",
    "data_set = pd.read_csv('../csv_files/Music_data_set.csv')\n",
    "genres_df = data_set_select_genre(data_set, ['classical', 'pop']) #selection the two genres\n",
    "genres_df\n",
    "sc = StandardScaler()\n",
    "genres_df[['mean_mfccs', 'mean_chroma_stft', 'tempo', 'pulse', 'contrast', 'zero_crossing']] = sc.fit_transform(genres_df[['mean_mfccs', 'mean_chroma_stft', 'tempo', 'pulse', 'contrast', 'zero_crossing']])\n",
    "\n",
    "x = genres_df.drop(['Unnamed: 0', 'song', 'genre'], axis=1)\n",
    "y = genres_df['genre']\n",
    "\n",
    "x_train, x_test, y_train, y_test = train_test_split(x, y, test_size = 0.2, random_state = 27) \n",
    "\n",
    "print(genres_df.dtypes)     # Prints out the data types associated to each of the fields in the table\n",
    "genres_df.head()"
   ]
  },
  {
   "cell_type": "code",
   "execution_count": 870,
   "metadata": {},
   "outputs": [],
   "source": [
    "#Here, we give a linear importance to all the features, you can modify what features to take into account or not\n",
    "def prepare_data(ds):\n",
    "    X_cols = ds[['mean_mfccs', 'mean_chroma_stft', 'tempo', 'pulse', 'flatness', 'contrast', 'zero_crossing']].copy()\n",
    "    \n",
    "    X = X_cols.values\n",
    "    X = X.reshape(len(X_cols),-1)\n",
    "    \n",
    "    #We add the dummy x_0\n",
    "    poly = PolynomialFeatures(1)  \n",
    "    X = poly.fit_transform(X)\n",
    "    \n",
    "    return X"
   ]
  },
  {
   "cell_type": "code",
   "execution_count": 871,
   "metadata": {},
   "outputs": [],
   "source": [
    "X_clf = prepare_data(x_train)\n",
    "X_clf_test = prepare_data(x_test)\n"
   ]
  },
  {
   "cell_type": "code",
   "execution_count": 872,
   "metadata": {},
   "outputs": [],
   "source": [
    "#Using the function fit_logreg defined in the utils.py file, that uses the function LogisticRegression of sklearn\n",
    "#It returns the two parameters, intercept and coeficient of our logistic regression\n",
    "logreg = utils.fit_logreg(X_clf, y_train)"
   ]
  },
  {
   "cell_type": "code",
   "execution_count": 873,
   "metadata": {},
   "outputs": [
    {
     "name": "stdout",
     "output_type": "stream",
     "text": [
      "*************** Estimated parameters: ***********************\n",
      "[W_0,W] : [ [-8.96760671] , [[-8.96760671e+00  6.01148379e+00 -8.20099850e+00 -3.19912133e+00\n",
      "   2.31539670e+00  1.24021128e+03 -4.02657404e-01 -7.16354921e+00]] ]\n"
     ]
    }
   ],
   "source": [
    "print('*************** Estimated parameters: ***********************')\n",
    "print('[W_0,W] : [',logreg.intercept_,',', logreg.coef_, ']' )"
   ]
  },
  {
   "cell_type": "code",
   "execution_count": 874,
   "metadata": {},
   "outputs": [],
   "source": [
    "def predict_and_test(model, X_test, y_test):\n",
    "    '''\n",
    "    Predicts using a model received as input and then evaluates the accuracy of the predicted data. \n",
    "    As inputs it receives the model, an input dataset X_test and the corresponding targets (ground thruth) y_test\n",
    "    It returs the classification accuracy.\n",
    "    '''\n",
    "    y_hat = model.predict(X_test)\n",
    "    #print(y_hat)               #These two lines can be uncommented to print y_hat and y_test and comparing them by hand\n",
    "    #print(np.array(y_test))    #They are list of strings\n",
    "    #Your code here\n",
    "    correct = 0\n",
    "    for i in range(len(y_hat)):\n",
    "        if (y_hat[i] == np.array(y_test)[i]):\n",
    "            compt = 1\n",
    "        else :\n",
    "            compt = 0\n",
    "        correct += compt\n",
    "    acc = correct / len(y_hat)\n",
    "    \n",
    "    return acc"
   ]
  },
  {
   "cell_type": "code",
   "execution_count": 875,
   "metadata": {},
   "outputs": [
    {
     "name": "stdout",
     "output_type": "stream",
     "text": [
      "*******************  Training accuracy (genre identification) ***************************\n",
      "ACC:  1.0\n",
      "*******************************************************************************************\n"
     ]
    }
   ],
   "source": [
    "acc = predict_and_test(logreg, X_clf, y_train)\n",
    "\n",
    "print('*******************  Training accuracy (genre identification) ***************************')\n",
    "print('ACC: ', acc)\n",
    "print('*******************************************************************************************')"
   ]
  },
  {
   "cell_type": "code",
   "execution_count": 876,
   "metadata": {},
   "outputs": [
    {
     "name": "stdout",
     "output_type": "stream",
     "text": [
      "******************  Testing accuracy *********************\n",
      "ACC:  0.975\n",
      "*******************************************************************************************\n"
     ]
    }
   ],
   "source": [
    "print('******************  Testing accuracy *********************')\n",
    "print('ACC: ', predict_and_test(logreg,X_clf_test, y_test))\n",
    "print('*******************************************************************************************')"
   ]
  },
  {
   "cell_type": "markdown",
   "metadata": {},
   "source": [
    "The table belows is a matrix of accuracies obtained after running the code above for all the tuples ['genre1', 'genre2'].\n",
    "The accuracies are generally high, ranging between 0.65 and 1.0 with an average of 0.88. We can notice however that some genres tend to differ more easily to others, for example classical music always obtained very high accuracies. On the other side, other genres have difficulties differencing from, the others, for instance rock music. This encouraged us consider the cas \"one versus all\" that we implemented for the neural network.\n"
   ]
  },
  {
   "cell_type": "markdown",
   "metadata": {},
   "source": [
    "<img src=\"../images/logistic_regression_2genres.jpg\" width=500 />"
   ]
  },
  {
   "cell_type": "markdown",
   "metadata": {},
   "source": [
    "#### Multi genres classification\n",
    "\n",
    "Here, we apply our logistic regression for more than two genres, the accuracy gets lower as we add more genres, which is understandable."
   ]
  },
  {
   "cell_type": "code",
   "execution_count": 877,
   "metadata": {},
   "outputs": [
    {
     "data": {
      "text/html": [
       "<div>\n",
       "<style scoped>\n",
       "    .dataframe tbody tr th:only-of-type {\n",
       "        vertical-align: middle;\n",
       "    }\n",
       "\n",
       "    .dataframe tbody tr th {\n",
       "        vertical-align: top;\n",
       "    }\n",
       "\n",
       "    .dataframe thead th {\n",
       "        text-align: right;\n",
       "    }\n",
       "</style>\n",
       "<table border=\"1\" class=\"dataframe\">\n",
       "  <thead>\n",
       "    <tr style=\"text-align: right;\">\n",
       "      <th></th>\n",
       "      <th>Unnamed: 0</th>\n",
       "      <th>song</th>\n",
       "      <th>mean_mfccs</th>\n",
       "      <th>mean_chroma_stft</th>\n",
       "      <th>tempo</th>\n",
       "      <th>pulse</th>\n",
       "      <th>flatness</th>\n",
       "      <th>contrast</th>\n",
       "      <th>zero_crossing</th>\n",
       "      <th>genre</th>\n",
       "    </tr>\n",
       "  </thead>\n",
       "  <tbody>\n",
       "    <tr>\n",
       "      <th>0</th>\n",
       "      <td>0</td>\n",
       "      <td>blues.00000.wav</td>\n",
       "      <td>0.674759</td>\n",
       "      <td>-0.075346</td>\n",
       "      <td>-0.024087</td>\n",
       "      <td>1.448547</td>\n",
       "      <td>0.004498</td>\n",
       "      <td>-0.576330</td>\n",
       "      <td>-0.321842</td>\n",
       "      <td>blues</td>\n",
       "    </tr>\n",
       "    <tr>\n",
       "      <th>1</th>\n",
       "      <td>1</td>\n",
       "      <td>blues.00001.wav</td>\n",
       "      <td>0.353790</td>\n",
       "      <td>-0.175293</td>\n",
       "      <td>-0.749397</td>\n",
       "      <td>1.310258</td>\n",
       "      <td>0.002298</td>\n",
       "      <td>-0.498334</td>\n",
       "      <td>-0.949518</td>\n",
       "      <td>blues</td>\n",
       "    </tr>\n",
       "    <tr>\n",
       "      <th>2</th>\n",
       "      <td>2</td>\n",
       "      <td>blues.00002.wav</td>\n",
       "      <td>0.529241</td>\n",
       "      <td>0.072256</td>\n",
       "      <td>1.789190</td>\n",
       "      <td>1.206660</td>\n",
       "      <td>0.002631</td>\n",
       "      <td>0.295763</td>\n",
       "      <td>-0.478586</td>\n",
       "      <td>blues</td>\n",
       "    </tr>\n",
       "    <tr>\n",
       "      <th>3</th>\n",
       "      <td>3</td>\n",
       "      <td>blues.00003.wav</td>\n",
       "      <td>0.374229</td>\n",
       "      <td>0.520514</td>\n",
       "      <td>2.296907</td>\n",
       "      <td>1.095834</td>\n",
       "      <td>0.000954</td>\n",
       "      <td>-0.106795</td>\n",
       "      <td>-1.477914</td>\n",
       "      <td>blues</td>\n",
       "    </tr>\n",
       "    <tr>\n",
       "      <th>4</th>\n",
       "      <td>4</td>\n",
       "      <td>blues.00004.wav</td>\n",
       "      <td>-0.999112</td>\n",
       "      <td>-0.528120</td>\n",
       "      <td>0.586701</td>\n",
       "      <td>-0.043627</td>\n",
       "      <td>0.003238</td>\n",
       "      <td>-0.085880</td>\n",
       "      <td>0.105941</td>\n",
       "      <td>blues</td>\n",
       "    </tr>\n",
       "  </tbody>\n",
       "</table>\n",
       "</div>"
      ],
      "text/plain": [
       "   Unnamed: 0             song  mean_mfccs  mean_chroma_stft     tempo  \\\n",
       "0           0  blues.00000.wav    0.674759         -0.075346 -0.024087   \n",
       "1           1  blues.00001.wav    0.353790         -0.175293 -0.749397   \n",
       "2           2  blues.00002.wav    0.529241          0.072256  1.789190   \n",
       "3           3  blues.00003.wav    0.374229          0.520514  2.296907   \n",
       "4           4  blues.00004.wav   -0.999112         -0.528120  0.586701   \n",
       "\n",
       "      pulse  flatness  contrast  zero_crossing  genre  \n",
       "0  1.448547  0.004498 -0.576330      -0.321842  blues  \n",
       "1  1.310258  0.002298 -0.498334      -0.949518  blues  \n",
       "2  1.206660  0.002631  0.295763      -0.478586  blues  \n",
       "3  1.095834  0.000954 -0.106795      -1.477914  blues  \n",
       "4 -0.043627  0.003238 -0.085880       0.105941  blues  "
      ]
     },
     "execution_count": 877,
     "metadata": {},
     "output_type": "execute_result"
    }
   ],
   "source": [
    "#importing our dataset and spliting into training and testing set\n",
    "\n",
    "data_set = pd.read_csv('../csv_files/Music_data_set.csv')\n",
    "genres_df = data_set_select_genre(data_set, ['classical', 'metal', 'blues', 'country']) #selecting genres\n",
    "genres_df\n",
    "sc = StandardScaler()\n",
    "genres_df[['mean_mfccs', 'mean_chroma_stft', 'tempo', 'pulse', 'contrast', 'zero_crossing']] = sc.fit_transform(genres_df[['mean_mfccs', 'mean_chroma_stft', 'tempo', 'pulse', 'contrast', 'zero_crossing']])\n",
    "\n",
    "x_3 = genres_df.drop(['Unnamed: 0', 'song', 'genre'], axis=1)\n",
    "y_3 = genres_df['genre']\n",
    "\n",
    "x_train_3, x_test_3, y_train_3, y_test_3 = train_test_split(x_3, y_3, test_size = 0.2, random_state = 27) \n",
    "\n",
    "genres_df.head()"
   ]
  },
  {
   "cell_type": "code",
   "execution_count": 881,
   "metadata": {},
   "outputs": [],
   "source": [
    "X_clf_3 = prepare_data(x_train_3)\n",
    "X_clf_test_3 = prepare_data(x_test_3)"
   ]
  },
  {
   "cell_type": "code",
   "execution_count": 882,
   "metadata": {},
   "outputs": [
    {
     "name": "stderr",
     "output_type": "stream",
     "text": [
      "C:\\Users\\yazid\\Anaconda3\\lib\\site-packages\\sklearn\\linear_model\\logistic.py:469: FutureWarning: Default multi_class will be changed to 'auto' in 0.22. Specify the multi_class option to silence this warning.\n",
      "  \"this warning.\", FutureWarning)\n"
     ]
    }
   ],
   "source": [
    "#Using the function fit_logreg defined in the utils.py file, that uses the function LogisticRegression of sklearn\n",
    "#It returns the two parameters, intercept and coeficient of our logistic regression\n",
    "logreg_3 = utils.fit_logreg(X_clf_3, y_train_3)"
   ]
  },
  {
   "cell_type": "code",
   "execution_count": 883,
   "metadata": {},
   "outputs": [
    {
     "name": "stdout",
     "output_type": "stream",
     "text": [
      "*************** Estimated parameters: ***********************\n",
      "[W_0,W] : [ [ 0.09444098 -1.05568233 -1.7166839  -1.51480931] , [[ 9.44409785e-02  8.46196438e-01  2.07627926e-01  1.25632316e-01\n",
      "   4.62997097e-01 -2.62780825e+02  1.15771020e-01  3.95117462e-02]\n",
      " [-1.05568233e+00 -3.43510076e+00 -5.41530614e+00  3.35656783e-01\n",
      "  -1.95839300e+00 -5.26720172e+02 -3.33075237e+00  5.00769457e+00]\n",
      " [-1.71668390e+00  1.08659183e+00 -1.23097989e+00 -2.68160901e-01\n",
      "   8.08421427e-01  1.85378040e+02  5.56457129e-01 -2.15968282e+00]\n",
      " [-1.51480931e+00 -1.77925716e-01  4.11803726e+00  1.69914004e-01\n",
      "   2.68890212e-02 -7.46444312e+01 -6.07831174e-01  1.58929297e+00]] ]\n"
     ]
    }
   ],
   "source": [
    "print('*************** Estimated parameters: ***********************')\n",
    "print('[W_0,W] : [',logreg_3.intercept_,',', logreg_3.coef_, ']' )"
   ]
  },
  {
   "cell_type": "code",
   "execution_count": 884,
   "metadata": {},
   "outputs": [
    {
     "name": "stdout",
     "output_type": "stream",
     "text": [
      "*******************  Training accuracy (genre identification) ***************************\n",
      "ACC:  0.79375\n",
      "*******************************************************************************************\n"
     ]
    }
   ],
   "source": [
    "acc_3 = predict_and_test(logreg_3, X_clf_3, y_train_3)\n",
    "\n",
    "print('*******************  Training accuracy (genre identification) ***************************')\n",
    "print('ACC: ', acc_3)\n",
    "print('*******************************************************************************************')"
   ]
  },
  {
   "cell_type": "code",
   "execution_count": 885,
   "metadata": {},
   "outputs": [
    {
     "name": "stdout",
     "output_type": "stream",
     "text": [
      "******************  Testing accuracy *********************\n",
      "ACC:  0.725\n",
      "*******************************************************************************************\n"
     ]
    }
   ],
   "source": [
    "print('******************  Testing accuracy *********************')\n",
    "print('ACC: ', predict_and_test(logreg_3,X_clf_test_3, y_test_3))\n",
    "print('*******************************************************************************************')"
   ]
  },
  {
   "cell_type": "markdown",
   "metadata": {},
   "source": [
    "#### Ten genres classifcation\n",
    "\n",
    "Here, we apply the logistic regression algorithm with the whole data, we obtain an accuracy of 48%, which is not spectacular, but considering that there are ten different classes, it is at least much better than the dummy model."
   ]
  },
  {
   "cell_type": "code",
   "execution_count": 886,
   "metadata": {},
   "outputs": [
    {
     "data": {
      "text/html": [
       "<div>\n",
       "<style scoped>\n",
       "    .dataframe tbody tr th:only-of-type {\n",
       "        vertical-align: middle;\n",
       "    }\n",
       "\n",
       "    .dataframe tbody tr th {\n",
       "        vertical-align: top;\n",
       "    }\n",
       "\n",
       "    .dataframe thead th {\n",
       "        text-align: right;\n",
       "    }\n",
       "</style>\n",
       "<table border=\"1\" class=\"dataframe\">\n",
       "  <thead>\n",
       "    <tr style=\"text-align: right;\">\n",
       "      <th></th>\n",
       "      <th>Unnamed: 0</th>\n",
       "      <th>song</th>\n",
       "      <th>mean_mfccs</th>\n",
       "      <th>mean_chroma_stft</th>\n",
       "      <th>tempo</th>\n",
       "      <th>pulse</th>\n",
       "      <th>flatness</th>\n",
       "      <th>contrast</th>\n",
       "      <th>zero_crossing</th>\n",
       "      <th>genre</th>\n",
       "    </tr>\n",
       "  </thead>\n",
       "  <tbody>\n",
       "    <tr>\n",
       "      <th>0</th>\n",
       "      <td>0</td>\n",
       "      <td>blues.00000.wav</td>\n",
       "      <td>0.498907</td>\n",
       "      <td>-0.350137</td>\n",
       "      <td>0.093269</td>\n",
       "      <td>1.249743</td>\n",
       "      <td>0.004498</td>\n",
       "      <td>0.001767</td>\n",
       "      <td>-0.493125</td>\n",
       "      <td>blues</td>\n",
       "    </tr>\n",
       "    <tr>\n",
       "      <th>1</th>\n",
       "      <td>1</td>\n",
       "      <td>blues.00001.wav</td>\n",
       "      <td>0.110828</td>\n",
       "      <td>-0.462482</td>\n",
       "      <td>-0.642775</td>\n",
       "      <td>1.103971</td>\n",
       "      <td>0.002298</td>\n",
       "      <td>0.070351</td>\n",
       "      <td>-1.138619</td>\n",
       "      <td>blues</td>\n",
       "    </tr>\n",
       "    <tr>\n",
       "      <th>2</th>\n",
       "      <td>2</td>\n",
       "      <td>blues.00002.wav</td>\n",
       "      <td>0.322963</td>\n",
       "      <td>-0.184224</td>\n",
       "      <td>1.933379</td>\n",
       "      <td>0.994767</td>\n",
       "      <td>0.002631</td>\n",
       "      <td>0.768619</td>\n",
       "      <td>-0.654318</td>\n",
       "      <td>blues</td>\n",
       "    </tr>\n",
       "    <tr>\n",
       "      <th>3</th>\n",
       "      <td>3</td>\n",
       "      <td>blues.00003.wav</td>\n",
       "      <td>0.135541</td>\n",
       "      <td>0.319639</td>\n",
       "      <td>2.448609</td>\n",
       "      <td>0.877943</td>\n",
       "      <td>0.000954</td>\n",
       "      <td>0.414641</td>\n",
       "      <td>-1.682014</td>\n",
       "      <td>blues</td>\n",
       "    </tr>\n",
       "    <tr>\n",
       "      <th>4</th>\n",
       "      <td>4</td>\n",
       "      <td>blues.00004.wav</td>\n",
       "      <td>-1.524946</td>\n",
       "      <td>-0.859077</td>\n",
       "      <td>0.713096</td>\n",
       "      <td>-0.323180</td>\n",
       "      <td>0.003238</td>\n",
       "      <td>0.433031</td>\n",
       "      <td>-0.053199</td>\n",
       "      <td>blues</td>\n",
       "    </tr>\n",
       "  </tbody>\n",
       "</table>\n",
       "</div>"
      ],
      "text/plain": [
       "   Unnamed: 0             song  mean_mfccs  mean_chroma_stft     tempo  \\\n",
       "0           0  blues.00000.wav    0.498907         -0.350137  0.093269   \n",
       "1           1  blues.00001.wav    0.110828         -0.462482 -0.642775   \n",
       "2           2  blues.00002.wav    0.322963         -0.184224  1.933379   \n",
       "3           3  blues.00003.wav    0.135541          0.319639  2.448609   \n",
       "4           4  blues.00004.wav   -1.524946         -0.859077  0.713096   \n",
       "\n",
       "      pulse  flatness  contrast  zero_crossing  genre  \n",
       "0  1.249743  0.004498  0.001767      -0.493125  blues  \n",
       "1  1.103971  0.002298  0.070351      -1.138619  blues  \n",
       "2  0.994767  0.002631  0.768619      -0.654318  blues  \n",
       "3  0.877943  0.000954  0.414641      -1.682014  blues  \n",
       "4 -0.323180  0.003238  0.433031      -0.053199  blues  "
      ]
     },
     "execution_count": 886,
     "metadata": {},
     "output_type": "execute_result"
    }
   ],
   "source": [
    "#importing our dataset and spliting into training and testing set\n",
    "\n",
    "genres_df_all = pd.read_csv('../csv_files/Music_data_set.csv')\n",
    "sc = StandardScaler()\n",
    "genres_df_all[['mean_mfccs', 'mean_chroma_stft', 'tempo', 'pulse', 'contrast', 'zero_crossing']] = sc.fit_transform(genres_df_all[['mean_mfccs', 'mean_chroma_stft', 'tempo', 'pulse', 'contrast', 'zero_crossing']])\n",
    "\n",
    "x2 = genres_df_all.drop(['Unnamed: 0', 'song', 'genre'], axis=1)\n",
    "y2 = genres_df_all['genre']\n",
    "\n",
    "x_train2, x_test2, y_train2, y_test2 = train_test_split(x2, y2, test_size = 0.2, random_state = 27) \n",
    "\n",
    "genres_df_all.head()\n"
   ]
  },
  {
   "cell_type": "code",
   "execution_count": 887,
   "metadata": {},
   "outputs": [
    {
     "name": "stderr",
     "output_type": "stream",
     "text": [
      "C:\\Users\\yazid\\Anaconda3\\lib\\site-packages\\sklearn\\linear_model\\logistic.py:469: FutureWarning: Default multi_class will be changed to 'auto' in 0.22. Specify the multi_class option to silence this warning.\n",
      "  \"this warning.\", FutureWarning)\n"
     ]
    }
   ],
   "source": [
    "X_clf2 = prepare_data(x_train2)\n",
    "X_clf_test2 = prepare_data(x_test2)\n",
    "\n",
    "logreg2 = utils.fit_logreg(X_clf2, y_train2)\n"
   ]
  },
  {
   "cell_type": "code",
   "execution_count": 888,
   "metadata": {},
   "outputs": [],
   "source": [
    "def dummy_model(X):\n",
    "    '''\n",
    "    Returns a zero (no disease) no matter the input\n",
    "    '''\n",
    "    return np.array(['blues']*(len(X)))"
   ]
  },
  {
   "cell_type": "code",
   "execution_count": 889,
   "metadata": {},
   "outputs": [
    {
     "name": "stdout",
     "output_type": "stream",
     "text": [
      "******************  Testing accuracy *********************\n",
      "ACC multinomial:  0.48\n",
      "ACC dummy:  0.1\n"
     ]
    }
   ],
   "source": [
    "y_test_dummy = dummy_model(X_clf_test2)\n",
    "acc_dummy = predict_and_test(logreg2, X_clf_test2, y_test_dummy)\n",
    "\n",
    "acc_test = predict_and_test(logreg2, X_clf_test2, y_test2)\n",
    "print('******************  Testing accuracy *********************')\n",
    "print('ACC multinomial: ', acc_test)\n",
    "print('ACC dummy: ', acc_dummy)\n"
   ]
  }
 ],
 "metadata": {
  "kernelspec": {
   "display_name": "Python 3",
   "language": "python",
   "name": "python3"
  },
  "language_info": {
   "codemirror_mode": {
    "name": "ipython",
    "version": 3
   },
   "file_extension": ".py",
   "mimetype": "text/x-python",
   "name": "python",
   "nbconvert_exporter": "python",
   "pygments_lexer": "ipython3",
   "version": "3.7.3"
  }
 },
 "nbformat": 4,
 "nbformat_minor": 2
}
